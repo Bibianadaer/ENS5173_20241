{
 "cells": [
  {
   "cell_type": "markdown",
   "id": "c3a5ffac-1048-4326-bd44-cacce1b4e058",
   "metadata": {},
   "source": [
    "# Aula 03/04/2024 - Comandos básicos no Python\n",
    "\n",
    "Nesta aula aprenderemos a importar pacotes e os tipos de variáveis\\\n",
    "Desenvolvedor: Bibiana Daer\n"
   ]
  },
  {
   "cell_type": "markdown",
   "id": "ec7486f1-d47e-4f4b-b921-8b38c4dec7cd",
   "metadata": {},
   "source": [
    "## Tipos de variáveis"
   ]
  },
  {
   "cell_type": "code",
   "execution_count": 17,
   "id": "78a7d1b6-e9e7-4583-8b5f-4777ca3dacac",
   "metadata": {},
   "outputs": [
    {
     "name": "stdout",
     "output_type": "stream",
     "text": [
      "a = 1\n",
      "<class 'int'>\n"
     ]
    }
   ],
   "source": [
    "# Criando variáveis inteiras\n",
    "# Str é texto - o número 1 é um interno, precisamos converter as informações\n",
    "# Float é dupla precisão\n",
    "# Lembrete: Ctrl + enter = run\n",
    "a = 1\n",
    "print ('a = '+str(a)) \n",
    "print(type(a))"
   ]
  },
  {
   "cell_type": "code",
   "execution_count": 18,
   "id": "d61d043d-fb6e-4094-8fec-13343637d819",
   "metadata": {},
   "outputs": [
    {
     "name": "stdout",
     "output_type": "stream",
     "text": [
      "Salve o descanso\n",
      "<class 'str'>\n"
     ]
    }
   ],
   "source": [
    "# Criando variáveis string\n",
    "b = 'Salve o '\n",
    "c = 'descanso'\n",
    "print (b+c)\n",
    "print(type(b))\n"
   ]
  },
  {
   "cell_type": "code",
   "execution_count": null,
   "id": "0d216380-b538-4489-87af-46ef40085c8b",
   "metadata": {},
   "outputs": [],
   "source": []
  }
 ],
 "metadata": {
  "kernelspec": {
   "display_name": "Python 3 (ipykernel)",
   "language": "python",
   "name": "python3"
  },
  "language_info": {
   "codemirror_mode": {
    "name": "ipython",
    "version": 3
   },
   "file_extension": ".py",
   "mimetype": "text/x-python",
   "name": "python",
   "nbconvert_exporter": "python",
   "pygments_lexer": "ipython3",
   "version": "3.11.8"
  }
 },
 "nbformat": 4,
 "nbformat_minor": 5
}
